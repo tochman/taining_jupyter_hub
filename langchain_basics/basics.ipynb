{
 "cells": [
  {
   "cell_type": "code",
   "execution_count": 1,
   "id": "4793c704-6b3e-4b45-863a-d671801bf6d3",
   "metadata": {},
   "outputs": [
    {
     "data": {
      "text/plain": [
       "[Module: null prototype] { default: {} }"
      ]
     },
     "execution_count": 1,
     "metadata": {},
     "output_type": "execute_result"
    }
   ],
   "source": [
    "import \"dotenv/config\";"
   ]
  },
  {
   "cell_type": "markdown",
   "id": "adde1c14",
   "metadata": {},
   "source": [
    "## Basic Building blocks\n",
    "\n",
    " LangChain.js provides a convenient way to send prompts to language models and retrieve responses, making it ideal for developing applications that require natural language processing. By leveraging the capabilities of OpenAI's language models, you can create sophisticated natural language processing applications with relative ease.\n",
    "\n",
    "### Code Walkthrough\n",
    "Let's walk through a simple example step-by-step. We'll start by setting up the necessary imports and creating a connection to the OpenAI language model. "
   ]
  },
  {
   "cell_type": "markdown",
   "id": "212ff0fb",
   "metadata": {},
   "source": [
    "#### Importing the ChatOpenAI Class\n",
    "This line imports the ChatOpenAI class from the @langchain/openai package. The ChatOpenAI class is designed to facilitate interactions with OpenAI's language models."
   ]
  },
  {
   "cell_type": "code",
   "execution_count": null,
   "id": "d4d460c5",
   "metadata": {},
   "outputs": [],
   "source": [
    "import { ChatOpenAI } from \"@langchain/openai\";"
   ]
  },
  {
   "cell_type": "markdown",
   "id": "1a5b1337",
   "metadata": {},
   "source": [
    "#### Creating an Instance of ChatOpenAI\n",
    "Here, we create an instance of the ChatOpenAI class. We pass an object with a modelName property to the constructor. The modelName specifies which version of the OpenAI model we want to use. In this case, we are using `gpt-4o`, which refers to a specific variant of the GPT-4 model."
   ]
  },
  {
   "cell_type": "code",
   "execution_count": null,
   "id": "a42a5eae",
   "metadata": {},
   "outputs": [],
   "source": [
    "const model = new ChatOpenAI({\n",
    "  modelName: \"gpt-4o\",\n",
    "});"
   ]
  },
  {
   "cell_type": "markdown",
   "id": "b57a229e",
   "metadata": {},
   "source": [
    "#### Sending a Prompt to the Model\n",
    "This line sends a prompt to the OpenAI model using the invoke method. The prompt here is \"Ge mig ett gott råd\", which is Swedish for \"Give me some good advice\". The await keyword ensures that we wait for the model's response before proceeding."
   ]
  },
  {
   "cell_type": "code",
   "execution_count": null,
   "id": "8262c183",
   "metadata": {},
   "outputs": [],
   "source": [
    "const response = await model.invoke('Ge mig ett gott råd');"
   ]
  },
  {
   "cell_type": "markdown",
   "id": "8bc77e05",
   "metadata": {},
   "source": [
    "#### Printing the Model's Response\n",
    "\n",
    "This line sends a prompt to the OpenAI model using the invoke method. The prompt here is \"Ge mig ett gott råd\", which is Swedish for \"Give me some good advice\". The await keyword ensures that we wait for the model's response before proceeding."
   ]
  },
  {
   "cell_type": "code",
   "execution_count": null,
   "id": "a8dd3081",
   "metadata": {},
   "outputs": [],
   "source": [
    "console.log(response.content);"
   ]
  },
  {
   "cell_type": "markdown",
   "id": "3763d74b",
   "metadata": {},
   "source": [
    "**This technique is a very basic example of a usage of OpenAI GPT model useful for building interactive applications, chatbots, or any system that requires dynamic generation of text based on user input.**\n",
    "\n",
    "Let's look at this code as a whole: "
   ]
  },
  {
   "cell_type": "code",
   "execution_count": 2,
   "id": "7d4fa6f6-0eb5-494c-b1d4-beaaa5f63c50",
   "metadata": {},
   "outputs": [
    {
     "name": "stdout",
     "output_type": "stream",
     "text": [
      "Självklart! Ett gott råd som kan ha en positiv inverkan på många aspekter av livet är att prioritera din mentala och fysiska hälsa. Här är några specifika steg du kan ta:\n",
      "\n",
      "1. **Hitta en balans**: Se till att du har en bra balans mellan arbete, fritid och vila. Överansträngning kan leda till stress och utbrändhet.\n",
      "\n",
      "2. **Motionera regelbundet**: Fysisk aktivitet stärker kroppen och frigör endorfiner, vilka kan förbättra ditt humör.\n",
      "\n",
      "3. **Ät hälsosamt**: En balanserad kost med tillräckligt av alla näringsämnen ger dig energi och stärker ditt immunsystem.\n",
      "\n",
      "4. **Sov tillräckligt**: Sömn är avgörande för att hjärnan och kroppen ska återhämta sig. Försök att få minst sju till åtta timmars sömn per natt.\n",
      "\n",
      "5. **Odla positiva relationer**: Omgiv dig med människor som stöttar och inspirerar dig. Socialt stöd är viktigt för välbefinnandet.\n",
      "\n",
      "6. **Tänk positivt**: Försök att fokusera på det positiva i ditt liv och försök att hantera negativa tankar på ett konstruktivt sätt. Meditation och mindfulness kan vara användbara verktyg.\n",
      "\n",
      "7. **Lär dig något nytt**: Håll din hjärna aktiv och engagerad genom att lära dig nya färdigheter eller hobbyn. Det kan ge dig en känsla av prestation och mening.\n",
      "\n",
      "Ta hand om dig själv och låt små, positiva förändringar leda till en bättre livskvalitet över tid.\n"
     ]
    }
   ],
   "source": [
    "import { ChatOpenAI } from \"@langchain/openai\";\n",
    "\n",
    "const model = new ChatOpenAI({\n",
    "  modelName: \"gpt-4o\",\n",
    "});\n",
    "const response = await model.invoke('Ge mig ett gott råd');\n",
    "console.log(response.content)"
   ]
  },
  {
   "cell_type": "markdown",
   "id": "9449027e",
   "metadata": {},
   "source": [
    "### Enhanced Model Interaction with Contextual Messages\n",
    "\n",
    "LangChain.js allows for more sophisticated interactions with language models by using SystemMessage and HumanMessage to provide context and instructions. This code demonstrates how to set context and guide the language model using SystemMessage and HumanMessage, resulting in more relevant and accurate responses. By providing clear instructions and user queries, you can enhance the interaction quality with the language model. \n",
    "\n",
    "Here’s how to implement and understand this approach:\n",
    "\n",
    "1. **Importing Required Classes**\n",
    "     - ChatOpenAI: Facilitates interaction with the OpenAI model.\n",
    "     - HumanMessage & SystemMessage: Define the types of messages to send.\n",
    "2. **Instantiate ChatOpenAI with the modelName parameter set to \"gpt-4o\".**\n",
    "3. **Defining the System and Human Message-**\n",
    "     - SystemMessage provides context: Specifies that the assistant is a career coach for programmers and system developers, ensuring polite and correct Swedish responses.\n",
    "     - HumanMessage contains the user query: \"Ge mig ett gott råd\" (Give me some good advice).\n",
    "4. **Sending Messages to the Model.**\n",
    "     - Use the invoke method to send both the system and human messages to the model and await the response.\n",
    "5. **Log the content of the model's response to the console.**"
   ]
  },
  {
   "cell_type": "code",
   "execution_count": null,
   "id": "f44e6955-82fd-4f2c-bfa4-0095a19ff8c9",
   "metadata": {},
   "outputs": [],
   "source": [
    "import { ChatOpenAI } from \"@langchain/openai\";\n",
    "import { HumanMessage, SystemMessage } from \"@langchain/core/messages\";\n",
    "const model = new ChatOpenAI({\n",
    "  modelName: \"gpt-4o\",\n",
    "});\n",
    "const systemMessage = new SystemMessage({\n",
    "  content: 'Du är en kariärrcoach med fokus på programmerare och systemutvecklare. Du är inkännande och trevlig. Dina svar är alltid på korrekt svenska'\n",
    "});\n",
    "const input = new HumanMessage({content: \"Ge mig ett gott råd\"});\n",
    "const response = await model.invoke([\n",
    "  systemMessage, input\n",
    "]);\n",
    "\n",
    "console.log(response.content)"
   ]
  },
  {
   "cell_type": "markdown",
   "id": "55b438d5",
   "metadata": {},
   "source": [
    "### Extending Context with Prompt Templates\n",
    "LangChain.js provides SystemMessagePromptTemplate and HumanMessagePromptTemplate to further refine the context and instructions given to the model. This allows for even more specific guidance and tailored responses.\n",
    "\n",
    "This example demonstrates how to use `SystemMessagePromptTemplate` and `HumanMessagePromptTemplate`  classes to provide more detailed and context-specific instructions to the model. By defining templates and introducing placeholders, you can create dynamic and flexible interactions, allowing for more precise and tailored responses."
   ]
  },
  {
   "cell_type": "code",
   "execution_count": null,
   "id": "fc69a5ea-c73c-4545-95e3-01d5306e6747",
   "metadata": {
    "vscode": {
     "languageId": "javascript"
    }
   },
   "outputs": [],
   "source": [
    "import {\n",
    "  ChatPromptTemplate,\n",
    "  SystemMessagePromptTemplate,\n",
    "  HumanMessagePromptTemplate,\n",
    "} from \"@langchain/core/prompts\";\n",
    "\n",
    "const systemMessagePromptTemplate = SystemMessagePromptTemplate.fromTemplate(\n",
    "  \"Du är en kariärrcoach med fokus på {occupation}. Du är {attitude}. Dina svar är alltid på {language}\"\n",
    ");\n",
    "\n",
    "const humanMessagePromptTemplate = HumanMessagePromptTemplate.fromTemplate(\n",
    "  \"Ge mig ett gott råd om {topic}\"\n",
    ");\n",
    "\n",
    "const promptFromMessages = ChatPromptTemplate.fromMessages([\n",
    "  systemMessagePromptTemplate,\n",
    "  humanMessagePromptTemplate,\n",
    "]);\n",
    "\n",
    "\n"
   ]
  },
  {
   "cell_type": "markdown",
   "id": "7630f5ac",
   "metadata": {},
   "source": [
    "You can easily modify the topic parameter in the HumanMessagePromptTemplate to request advice on various skills:\n",
    "\n",
    "- Soft Skills: { topic: \"mjuka färdigheter\" }\n",
    "- Technical Skills: { topic: \"tekniska färdigheter\" }\n",
    "- AI Skills: { topic: \"AI färdigheter\" }\n"
   ]
  },
  {
   "cell_type": "code",
   "execution_count": null,
   "id": "a296a62a",
   "metadata": {},
   "outputs": [],
   "source": [
    "const model = new ChatOpenAI({\n",
    "  modelName: \"gpt-4o\",\n",
    "});\n",
    "const chain = promptFromMessages.pipe(model);"
   ]
  },
  {
   "cell_type": "code",
   "execution_count": null,
   "id": "95e6b922-796f-458a-97f8-cb44b6fbb83b",
   "metadata": {},
   "outputs": [],
   "source": [
    "console.log(chain)"
   ]
  },
  {
   "cell_type": "code",
   "execution_count": null,
   "id": "e3354312-4140-4bb3-bfc6-4d7254b75a35",
   "metadata": {},
   "outputs": [],
   "source": [
    "const response = await chain.invoke({\n",
    "  occupation: \"socialarbetare\",\n",
    "  topic: \"lagstiftning\",\n",
    "  attitude: \"arg och tvär\",\n",
    "  language: \"förortsslang\",\n",
    "});\n",
    "\n",
    "console.log(response.content);\n"
   ]
  },
  {
   "cell_type": "code",
   "execution_count": null,
   "id": "a4065b95-4ea4-45cb-af66-195e8229b3bf",
   "metadata": {},
   "outputs": [],
   "source": [
    "import { RunnableSequence } from \"@langchain/core/runnables\";\n",
    "import { StringOutputParser } from \"@langchain/core/output_parsers\";\n",
    "const outputParser = new StringOutputParser\n",
    "\n",
    "const adviceChain = RunnableSequence.from([\n",
    "    promptFromMessages,\n",
    "    model,\n",
    "    outputParser\n",
    "])\n",
    "const stream = await adviceChain.invoke({\n",
    "    occupation: \"programmerare och systemutvecklare\",\n",
    "  topic: \"utveckling av AI applikationer med LangChainJS\",\n",
    "  attitude: \"inkännande\",\n",
    "  language: \"svenska\",})"
   ]
  },
  {
   "cell_type": "code",
   "execution_count": null,
   "id": "b57f2ba3-d28b-44a2-9465-b396cf1d4583",
   "metadata": {},
   "outputs": [],
   "source": []
  }
 ],
 "metadata": {
  "kernelspec": {
   "display_name": "Deno",
   "language": "typescript",
   "name": "deno"
  },
  "language_info": {
   "codemirror_mode": "typescript",
   "file_extension": ".ts",
   "mimetype": "text/x.typescript",
   "name": "typescript",
   "nbconvert_exporter": "script",
   "pygments_lexer": "typescript",
   "version": "5.4.5"
  }
 },
 "nbformat": 4,
 "nbformat_minor": 5
}